{
 "cells": [
  {
   "cell_type": "code",
   "execution_count": 1,
   "metadata": {},
   "outputs": [],
   "source": [
    "# Import libraries and set desired options\n",
    "import pickle\n",
    "from pathlib2 import Path\n",
    "import numpy as np\n",
    "import pandas as pd\n",
    "from datetime import datetime\n",
    "import os\n",
    "\n",
    "import matplotlib.pyplot as plt\n",
    "import seaborn as sns\n",
    "\n",
    "%matplotlib inline"
   ]
  },
  {
   "cell_type": "code",
   "execution_count": 2,
   "metadata": {},
   "outputs": [],
   "source": [
    "# Read the training and test data sets, change paths if needed\n",
    "PATH_TO_DATA = Path('data/')\n",
    "\n",
    "times = ['time%s' % i for i in range(1, 11)]\n",
    "sites = ['site%s' % i for i in range(1, 11)]\n",
    "train_df = pd.read_csv(PATH_TO_DATA / 'train_sessions.csv',\n",
    "                       index_col='session_id', parse_dates=times)\n",
    "test_df = pd.read_csv(PATH_TO_DATA / 'test_sessions.csv',\n",
    "                      index_col='session_id', parse_dates=times)\n",
    "\n",
    "# Sort the data by time\n",
    "train_df = train_df.sort_values(by='time1')"
   ]
  },
  {
   "cell_type": "code",
   "execution_count": 3,
   "metadata": {},
   "outputs": [
    {
     "data": {
      "text/html": [
       "<div>\n",
       "<style scoped>\n",
       "    .dataframe tbody tr th:only-of-type {\n",
       "        vertical-align: middle;\n",
       "    }\n",
       "\n",
       "    .dataframe tbody tr th {\n",
       "        vertical-align: top;\n",
       "    }\n",
       "\n",
       "    .dataframe thead th {\n",
       "        text-align: right;\n",
       "    }\n",
       "</style>\n",
       "<table border=\"1\" class=\"dataframe\">\n",
       "  <thead>\n",
       "    <tr style=\"text-align: right;\">\n",
       "      <th></th>\n",
       "      <th>site1</th>\n",
       "      <th>time1</th>\n",
       "      <th>site2</th>\n",
       "      <th>time2</th>\n",
       "      <th>site3</th>\n",
       "      <th>time3</th>\n",
       "      <th>site4</th>\n",
       "      <th>time4</th>\n",
       "      <th>site5</th>\n",
       "      <th>time5</th>\n",
       "      <th>...</th>\n",
       "      <th>time6</th>\n",
       "      <th>site7</th>\n",
       "      <th>time7</th>\n",
       "      <th>site8</th>\n",
       "      <th>time8</th>\n",
       "      <th>site9</th>\n",
       "      <th>time9</th>\n",
       "      <th>site10</th>\n",
       "      <th>time10</th>\n",
       "      <th>target</th>\n",
       "    </tr>\n",
       "    <tr>\n",
       "      <th>session_id</th>\n",
       "      <th></th>\n",
       "      <th></th>\n",
       "      <th></th>\n",
       "      <th></th>\n",
       "      <th></th>\n",
       "      <th></th>\n",
       "      <th></th>\n",
       "      <th></th>\n",
       "      <th></th>\n",
       "      <th></th>\n",
       "      <th></th>\n",
       "      <th></th>\n",
       "      <th></th>\n",
       "      <th></th>\n",
       "      <th></th>\n",
       "      <th></th>\n",
       "      <th></th>\n",
       "      <th></th>\n",
       "      <th></th>\n",
       "      <th></th>\n",
       "      <th></th>\n",
       "    </tr>\n",
       "  </thead>\n",
       "  <tbody>\n",
       "    <tr>\n",
       "      <td>21669</td>\n",
       "      <td>56</td>\n",
       "      <td>2013-01-12 08:05:57</td>\n",
       "      <td>55.0</td>\n",
       "      <td>2013-01-12 08:05:57</td>\n",
       "      <td>NaN</td>\n",
       "      <td>NaT</td>\n",
       "      <td>NaN</td>\n",
       "      <td>NaT</td>\n",
       "      <td>NaN</td>\n",
       "      <td>NaT</td>\n",
       "      <td>...</td>\n",
       "      <td>NaT</td>\n",
       "      <td>NaN</td>\n",
       "      <td>NaT</td>\n",
       "      <td>NaN</td>\n",
       "      <td>NaT</td>\n",
       "      <td>NaN</td>\n",
       "      <td>NaT</td>\n",
       "      <td>NaN</td>\n",
       "      <td>NaT</td>\n",
       "      <td>0</td>\n",
       "    </tr>\n",
       "    <tr>\n",
       "      <td>54843</td>\n",
       "      <td>56</td>\n",
       "      <td>2013-01-12 08:37:23</td>\n",
       "      <td>55.0</td>\n",
       "      <td>2013-01-12 08:37:23</td>\n",
       "      <td>56.0</td>\n",
       "      <td>2013-01-12 09:07:07</td>\n",
       "      <td>55.0</td>\n",
       "      <td>2013-01-12 09:07:09</td>\n",
       "      <td>NaN</td>\n",
       "      <td>NaT</td>\n",
       "      <td>...</td>\n",
       "      <td>NaT</td>\n",
       "      <td>NaN</td>\n",
       "      <td>NaT</td>\n",
       "      <td>NaN</td>\n",
       "      <td>NaT</td>\n",
       "      <td>NaN</td>\n",
       "      <td>NaT</td>\n",
       "      <td>NaN</td>\n",
       "      <td>NaT</td>\n",
       "      <td>0</td>\n",
       "    </tr>\n",
       "    <tr>\n",
       "      <td>77292</td>\n",
       "      <td>946</td>\n",
       "      <td>2013-01-12 08:50:13</td>\n",
       "      <td>946.0</td>\n",
       "      <td>2013-01-12 08:50:14</td>\n",
       "      <td>951.0</td>\n",
       "      <td>2013-01-12 08:50:15</td>\n",
       "      <td>946.0</td>\n",
       "      <td>2013-01-12 08:50:15</td>\n",
       "      <td>946.0</td>\n",
       "      <td>2013-01-12 08:50:16</td>\n",
       "      <td>...</td>\n",
       "      <td>2013-01-12 08:50:16</td>\n",
       "      <td>948.0</td>\n",
       "      <td>2013-01-12 08:50:16</td>\n",
       "      <td>784.0</td>\n",
       "      <td>2013-01-12 08:50:16</td>\n",
       "      <td>949.0</td>\n",
       "      <td>2013-01-12 08:50:17</td>\n",
       "      <td>946.0</td>\n",
       "      <td>2013-01-12 08:50:17</td>\n",
       "      <td>0</td>\n",
       "    </tr>\n",
       "    <tr>\n",
       "      <td>114021</td>\n",
       "      <td>945</td>\n",
       "      <td>2013-01-12 08:50:17</td>\n",
       "      <td>948.0</td>\n",
       "      <td>2013-01-12 08:50:17</td>\n",
       "      <td>949.0</td>\n",
       "      <td>2013-01-12 08:50:18</td>\n",
       "      <td>948.0</td>\n",
       "      <td>2013-01-12 08:50:18</td>\n",
       "      <td>945.0</td>\n",
       "      <td>2013-01-12 08:50:18</td>\n",
       "      <td>...</td>\n",
       "      <td>2013-01-12 08:50:18</td>\n",
       "      <td>947.0</td>\n",
       "      <td>2013-01-12 08:50:19</td>\n",
       "      <td>945.0</td>\n",
       "      <td>2013-01-12 08:50:19</td>\n",
       "      <td>946.0</td>\n",
       "      <td>2013-01-12 08:50:19</td>\n",
       "      <td>946.0</td>\n",
       "      <td>2013-01-12 08:50:20</td>\n",
       "      <td>0</td>\n",
       "    </tr>\n",
       "    <tr>\n",
       "      <td>146670</td>\n",
       "      <td>947</td>\n",
       "      <td>2013-01-12 08:50:20</td>\n",
       "      <td>950.0</td>\n",
       "      <td>2013-01-12 08:50:20</td>\n",
       "      <td>948.0</td>\n",
       "      <td>2013-01-12 08:50:20</td>\n",
       "      <td>947.0</td>\n",
       "      <td>2013-01-12 08:50:21</td>\n",
       "      <td>950.0</td>\n",
       "      <td>2013-01-12 08:50:21</td>\n",
       "      <td>...</td>\n",
       "      <td>2013-01-12 08:50:21</td>\n",
       "      <td>946.0</td>\n",
       "      <td>2013-01-12 08:50:21</td>\n",
       "      <td>951.0</td>\n",
       "      <td>2013-01-12 08:50:22</td>\n",
       "      <td>946.0</td>\n",
       "      <td>2013-01-12 08:50:22</td>\n",
       "      <td>947.0</td>\n",
       "      <td>2013-01-12 08:50:22</td>\n",
       "      <td>0</td>\n",
       "    </tr>\n",
       "  </tbody>\n",
       "</table>\n",
       "<p>5 rows × 21 columns</p>\n",
       "</div>"
      ],
      "text/plain": [
       "            site1               time1  site2               time2  site3  \\\n",
       "session_id                                                                \n",
       "21669          56 2013-01-12 08:05:57   55.0 2013-01-12 08:05:57    NaN   \n",
       "54843          56 2013-01-12 08:37:23   55.0 2013-01-12 08:37:23   56.0   \n",
       "77292         946 2013-01-12 08:50:13  946.0 2013-01-12 08:50:14  951.0   \n",
       "114021        945 2013-01-12 08:50:17  948.0 2013-01-12 08:50:17  949.0   \n",
       "146670        947 2013-01-12 08:50:20  950.0 2013-01-12 08:50:20  948.0   \n",
       "\n",
       "                         time3  site4               time4  site5  \\\n",
       "session_id                                                         \n",
       "21669                      NaT    NaN                 NaT    NaN   \n",
       "54843      2013-01-12 09:07:07   55.0 2013-01-12 09:07:09    NaN   \n",
       "77292      2013-01-12 08:50:15  946.0 2013-01-12 08:50:15  946.0   \n",
       "114021     2013-01-12 08:50:18  948.0 2013-01-12 08:50:18  945.0   \n",
       "146670     2013-01-12 08:50:20  947.0 2013-01-12 08:50:21  950.0   \n",
       "\n",
       "                         time5  ...               time6  site7  \\\n",
       "session_id                      ...                              \n",
       "21669                      NaT  ...                 NaT    NaN   \n",
       "54843                      NaT  ...                 NaT    NaN   \n",
       "77292      2013-01-12 08:50:16  ... 2013-01-12 08:50:16  948.0   \n",
       "114021     2013-01-12 08:50:18  ... 2013-01-12 08:50:18  947.0   \n",
       "146670     2013-01-12 08:50:21  ... 2013-01-12 08:50:21  946.0   \n",
       "\n",
       "                         time7  site8               time8  site9  \\\n",
       "session_id                                                         \n",
       "21669                      NaT    NaN                 NaT    NaN   \n",
       "54843                      NaT    NaN                 NaT    NaN   \n",
       "77292      2013-01-12 08:50:16  784.0 2013-01-12 08:50:16  949.0   \n",
       "114021     2013-01-12 08:50:19  945.0 2013-01-12 08:50:19  946.0   \n",
       "146670     2013-01-12 08:50:21  951.0 2013-01-12 08:50:22  946.0   \n",
       "\n",
       "                         time9 site10              time10 target  \n",
       "session_id                                                        \n",
       "21669                      NaT    NaN                 NaT      0  \n",
       "54843                      NaT    NaN                 NaT      0  \n",
       "77292      2013-01-12 08:50:17  946.0 2013-01-12 08:50:17      0  \n",
       "114021     2013-01-12 08:50:19  946.0 2013-01-12 08:50:20      0  \n",
       "146670     2013-01-12 08:50:22  947.0 2013-01-12 08:50:22      0  \n",
       "\n",
       "[5 rows x 21 columns]"
      ]
     },
     "execution_count": 3,
     "metadata": {},
     "output_type": "execute_result"
    }
   ],
   "source": [
    "# Take a look at the train DataFrame head\n",
    "train_df.head()"
   ]
  },
  {
   "cell_type": "code",
   "execution_count": 4,
   "metadata": {},
   "outputs": [
    {
     "name": "stdout",
     "output_type": "stream",
     "text": [
      "Number of sessions in the train data set is 253561\n"
     ]
    }
   ],
   "source": [
    "print('Number of sessions in the train data set is {}'.format(train_df.shape[0]))"
   ]
  },
  {
   "cell_type": "code",
   "execution_count": 5,
   "metadata": {},
   "outputs": [],
   "source": [
    "# Replace site ids with site names\n",
    "site_dic = pickle.load(open(PATH_TO_DATA / 'site_dic.pkl','rb'))\n",
    "\n",
    "# Make swap ids with values: make site ids dict keys\n",
    "site_dic = {val: key for val, key in zip(site_dic.values(), site_dic.keys())}\n",
    "\n",
    "# Replace site ids with domain names for both train and test\n",
    "train_df[sites] = train_df[sites].applymap(lambda x: site_dic[x] if x in site_dic else x)\n",
    "test_df[sites] = test_df[sites].applymap(lambda x: site_dic[x] if x in site_dic else x)"
   ]
  },
  {
   "cell_type": "code",
   "execution_count": 6,
   "metadata": {},
   "outputs": [
    {
     "data": {
      "text/html": [
       "<div>\n",
       "<style scoped>\n",
       "    .dataframe tbody tr th:only-of-type {\n",
       "        vertical-align: middle;\n",
       "    }\n",
       "\n",
       "    .dataframe tbody tr th {\n",
       "        vertical-align: top;\n",
       "    }\n",
       "\n",
       "    .dataframe thead th {\n",
       "        text-align: right;\n",
       "    }\n",
       "</style>\n",
       "<table border=\"1\" class=\"dataframe\">\n",
       "  <thead>\n",
       "    <tr style=\"text-align: right;\">\n",
       "      <th></th>\n",
       "      <th>site1</th>\n",
       "      <th>time1</th>\n",
       "      <th>site2</th>\n",
       "      <th>time2</th>\n",
       "      <th>site3</th>\n",
       "      <th>time3</th>\n",
       "      <th>site4</th>\n",
       "      <th>time4</th>\n",
       "      <th>site5</th>\n",
       "      <th>time5</th>\n",
       "      <th>...</th>\n",
       "      <th>time6</th>\n",
       "      <th>site7</th>\n",
       "      <th>time7</th>\n",
       "      <th>site8</th>\n",
       "      <th>time8</th>\n",
       "      <th>site9</th>\n",
       "      <th>time9</th>\n",
       "      <th>site10</th>\n",
       "      <th>time10</th>\n",
       "      <th>target</th>\n",
       "    </tr>\n",
       "    <tr>\n",
       "      <th>session_id</th>\n",
       "      <th></th>\n",
       "      <th></th>\n",
       "      <th></th>\n",
       "      <th></th>\n",
       "      <th></th>\n",
       "      <th></th>\n",
       "      <th></th>\n",
       "      <th></th>\n",
       "      <th></th>\n",
       "      <th></th>\n",
       "      <th></th>\n",
       "      <th></th>\n",
       "      <th></th>\n",
       "      <th></th>\n",
       "      <th></th>\n",
       "      <th></th>\n",
       "      <th></th>\n",
       "      <th></th>\n",
       "      <th></th>\n",
       "      <th></th>\n",
       "      <th></th>\n",
       "    </tr>\n",
       "  </thead>\n",
       "  <tbody>\n",
       "    <tr>\n",
       "      <td>21669</td>\n",
       "      <td>safebrowsing.clients.google.com</td>\n",
       "      <td>2013-01-12 08:05:57</td>\n",
       "      <td>safebrowsing-cache.google.com</td>\n",
       "      <td>2013-01-12 08:05:57</td>\n",
       "      <td>NaN</td>\n",
       "      <td>NaT</td>\n",
       "      <td>NaN</td>\n",
       "      <td>NaT</td>\n",
       "      <td>NaN</td>\n",
       "      <td>NaT</td>\n",
       "      <td>...</td>\n",
       "      <td>NaT</td>\n",
       "      <td>NaN</td>\n",
       "      <td>NaT</td>\n",
       "      <td>NaN</td>\n",
       "      <td>NaT</td>\n",
       "      <td>NaN</td>\n",
       "      <td>NaT</td>\n",
       "      <td>NaN</td>\n",
       "      <td>NaT</td>\n",
       "      <td>0</td>\n",
       "    </tr>\n",
       "    <tr>\n",
       "      <td>54843</td>\n",
       "      <td>safebrowsing.clients.google.com</td>\n",
       "      <td>2013-01-12 08:37:23</td>\n",
       "      <td>safebrowsing-cache.google.com</td>\n",
       "      <td>2013-01-12 08:37:23</td>\n",
       "      <td>safebrowsing.clients.google.com</td>\n",
       "      <td>2013-01-12 09:07:07</td>\n",
       "      <td>safebrowsing-cache.google.com</td>\n",
       "      <td>2013-01-12 09:07:09</td>\n",
       "      <td>NaN</td>\n",
       "      <td>NaT</td>\n",
       "      <td>...</td>\n",
       "      <td>NaT</td>\n",
       "      <td>NaN</td>\n",
       "      <td>NaT</td>\n",
       "      <td>NaN</td>\n",
       "      <td>NaT</td>\n",
       "      <td>NaN</td>\n",
       "      <td>NaT</td>\n",
       "      <td>NaN</td>\n",
       "      <td>NaT</td>\n",
       "      <td>0</td>\n",
       "    </tr>\n",
       "    <tr>\n",
       "      <td>77292</td>\n",
       "      <td>www.apache.org</td>\n",
       "      <td>2013-01-12 08:50:13</td>\n",
       "      <td>www.apache.org</td>\n",
       "      <td>2013-01-12 08:50:14</td>\n",
       "      <td>download.eclipse.org</td>\n",
       "      <td>2013-01-12 08:50:15</td>\n",
       "      <td>www.apache.org</td>\n",
       "      <td>2013-01-12 08:50:15</td>\n",
       "      <td>www.apache.org</td>\n",
       "      <td>2013-01-12 08:50:16</td>\n",
       "      <td>...</td>\n",
       "      <td>2013-01-12 08:50:16</td>\n",
       "      <td>download.oracle.com</td>\n",
       "      <td>2013-01-12 08:50:16</td>\n",
       "      <td>javadl-esd-secure.oracle.com</td>\n",
       "      <td>2013-01-12 08:50:16</td>\n",
       "      <td>www.caucho.com</td>\n",
       "      <td>2013-01-12 08:50:17</td>\n",
       "      <td>www.apache.org</td>\n",
       "      <td>2013-01-12 08:50:17</td>\n",
       "      <td>0</td>\n",
       "    </tr>\n",
       "    <tr>\n",
       "      <td>114021</td>\n",
       "      <td>www.webtide.com</td>\n",
       "      <td>2013-01-12 08:50:17</td>\n",
       "      <td>download.oracle.com</td>\n",
       "      <td>2013-01-12 08:50:17</td>\n",
       "      <td>www.caucho.com</td>\n",
       "      <td>2013-01-12 08:50:18</td>\n",
       "      <td>download.oracle.com</td>\n",
       "      <td>2013-01-12 08:50:18</td>\n",
       "      <td>www.webtide.com</td>\n",
       "      <td>2013-01-12 08:50:18</td>\n",
       "      <td>...</td>\n",
       "      <td>2013-01-12 08:50:18</td>\n",
       "      <td>public.dhe.ibm.com</td>\n",
       "      <td>2013-01-12 08:50:19</td>\n",
       "      <td>www.webtide.com</td>\n",
       "      <td>2013-01-12 08:50:19</td>\n",
       "      <td>www.apache.org</td>\n",
       "      <td>2013-01-12 08:50:19</td>\n",
       "      <td>www.apache.org</td>\n",
       "      <td>2013-01-12 08:50:20</td>\n",
       "      <td>0</td>\n",
       "    </tr>\n",
       "    <tr>\n",
       "      <td>146670</td>\n",
       "      <td>public.dhe.ibm.com</td>\n",
       "      <td>2013-01-12 08:50:20</td>\n",
       "      <td>jope.ow2.org</td>\n",
       "      <td>2013-01-12 08:50:20</td>\n",
       "      <td>download.oracle.com</td>\n",
       "      <td>2013-01-12 08:50:20</td>\n",
       "      <td>public.dhe.ibm.com</td>\n",
       "      <td>2013-01-12 08:50:21</td>\n",
       "      <td>jope.ow2.org</td>\n",
       "      <td>2013-01-12 08:50:21</td>\n",
       "      <td>...</td>\n",
       "      <td>2013-01-12 08:50:21</td>\n",
       "      <td>www.apache.org</td>\n",
       "      <td>2013-01-12 08:50:21</td>\n",
       "      <td>download.eclipse.org</td>\n",
       "      <td>2013-01-12 08:50:22</td>\n",
       "      <td>www.apache.org</td>\n",
       "      <td>2013-01-12 08:50:22</td>\n",
       "      <td>public.dhe.ibm.com</td>\n",
       "      <td>2013-01-12 08:50:22</td>\n",
       "      <td>0</td>\n",
       "    </tr>\n",
       "  </tbody>\n",
       "</table>\n",
       "<p>5 rows × 21 columns</p>\n",
       "</div>"
      ],
      "text/plain": [
       "                                      site1               time1  \\\n",
       "session_id                                                        \n",
       "21669       safebrowsing.clients.google.com 2013-01-12 08:05:57   \n",
       "54843       safebrowsing.clients.google.com 2013-01-12 08:37:23   \n",
       "77292                        www.apache.org 2013-01-12 08:50:13   \n",
       "114021                      www.webtide.com 2013-01-12 08:50:17   \n",
       "146670                   public.dhe.ibm.com 2013-01-12 08:50:20   \n",
       "\n",
       "                                    site2               time2  \\\n",
       "session_id                                                      \n",
       "21669       safebrowsing-cache.google.com 2013-01-12 08:05:57   \n",
       "54843       safebrowsing-cache.google.com 2013-01-12 08:37:23   \n",
       "77292                      www.apache.org 2013-01-12 08:50:14   \n",
       "114021                download.oracle.com 2013-01-12 08:50:17   \n",
       "146670                       jope.ow2.org 2013-01-12 08:50:20   \n",
       "\n",
       "                                      site3               time3  \\\n",
       "session_id                                                        \n",
       "21669                                   NaN                 NaT   \n",
       "54843       safebrowsing.clients.google.com 2013-01-12 09:07:07   \n",
       "77292                  download.eclipse.org 2013-01-12 08:50:15   \n",
       "114021                       www.caucho.com 2013-01-12 08:50:18   \n",
       "146670                  download.oracle.com 2013-01-12 08:50:20   \n",
       "\n",
       "                                    site4               time4  \\\n",
       "session_id                                                      \n",
       "21669                                 NaN                 NaT   \n",
       "54843       safebrowsing-cache.google.com 2013-01-12 09:07:09   \n",
       "77292                      www.apache.org 2013-01-12 08:50:15   \n",
       "114021                download.oracle.com 2013-01-12 08:50:18   \n",
       "146670                 public.dhe.ibm.com 2013-01-12 08:50:21   \n",
       "\n",
       "                      site5               time5  ...               time6  \\\n",
       "session_id                                       ...                       \n",
       "21669                   NaN                 NaT  ...                 NaT   \n",
       "54843                   NaN                 NaT  ...                 NaT   \n",
       "77292        www.apache.org 2013-01-12 08:50:16  ... 2013-01-12 08:50:16   \n",
       "114021      www.webtide.com 2013-01-12 08:50:18  ... 2013-01-12 08:50:18   \n",
       "146670         jope.ow2.org 2013-01-12 08:50:21  ... 2013-01-12 08:50:21   \n",
       "\n",
       "                          site7               time7  \\\n",
       "session_id                                            \n",
       "21669                       NaN                 NaT   \n",
       "54843                       NaN                 NaT   \n",
       "77292       download.oracle.com 2013-01-12 08:50:16   \n",
       "114021       public.dhe.ibm.com 2013-01-12 08:50:19   \n",
       "146670           www.apache.org 2013-01-12 08:50:21   \n",
       "\n",
       "                                   site8               time8           site9  \\\n",
       "session_id                                                                     \n",
       "21669                                NaN                 NaT             NaN   \n",
       "54843                                NaN                 NaT             NaN   \n",
       "77292       javadl-esd-secure.oracle.com 2013-01-12 08:50:16  www.caucho.com   \n",
       "114021                   www.webtide.com 2013-01-12 08:50:19  www.apache.org   \n",
       "146670              download.eclipse.org 2013-01-12 08:50:22  www.apache.org   \n",
       "\n",
       "                         time9              site10              time10 target  \n",
       "session_id                                                                     \n",
       "21669                      NaT                 NaN                 NaT      0  \n",
       "54843                      NaT                 NaN                 NaT      0  \n",
       "77292      2013-01-12 08:50:17      www.apache.org 2013-01-12 08:50:17      0  \n",
       "114021     2013-01-12 08:50:19      www.apache.org 2013-01-12 08:50:20      0  \n",
       "146670     2013-01-12 08:50:22  public.dhe.ibm.com 2013-01-12 08:50:22      0  \n",
       "\n",
       "[5 rows x 21 columns]"
      ]
     },
     "execution_count": 6,
     "metadata": {},
     "output_type": "execute_result"
    }
   ],
   "source": [
    "# Let's take a look at the train dataset with site names instead of ids\n",
    "train_df.head()"
   ]
  },
  {
   "cell_type": "code",
   "execution_count": 7,
   "metadata": {},
   "outputs": [
    {
     "name": "stdout",
     "output_type": "stream",
     "text": [
      "Number of unique websites is 48371\n"
     ]
    }
   ],
   "source": [
    "print('Number of unique websites is {}'.format(len(site_dic)))"
   ]
  },
  {
   "cell_type": "markdown",
   "metadata": {},
   "source": [
    "# Prepare data for visual analysis"
   ]
  },
  {
   "cell_type": "code",
   "execution_count": 8,
   "metadata": {},
   "outputs": [],
   "source": [
    "full_df = pd.concat([train_df.drop('target', axis=1), test_df])\n",
    "y = train_df['target']\n",
    "\n",
    "extra_feats = pd.DataFrame(index=full_df.index)\n",
    "\n",
    "extra_feats['session_length'] = (full_df[times].max(axis=1) - full_df[times].min(axis=1))/np.timedelta64(1, 's')\n",
    "extra_feats['start_hour'] = full_df[times].min(axis=1).apply(lambda x: (x.hour))\n",
    "extra_feats['start_minute'] = full_df[times].min(axis=1).apply(lambda x: (x.minute))\n",
    "extra_feats['session_std'] = ((full_df[times]-datetime(1970,1,1))/np.timedelta64(1, 's')).std(axis=1)\n",
    "# Additional factors for logit\n",
    "extra_feats['weekday'] = full_df[times].min(axis=1).apply(lambda x: x.weekday())\n",
    "extra_feats['yearmonth'] = full_df[times].min(axis=1).apply(lambda x: x.year*12+x.month)"
   ]
  },
  {
   "cell_type": "markdown",
   "metadata": {},
   "source": [
    "# Visual analysis\n",
    "\n",
    "We already know we'll be using bag-of-words and TF-IDS on the site names. Let's see what kind of features and binnings might be useful for time features."
   ]
  },
  {
   "cell_type": "code",
   "execution_count": 9,
   "metadata": {},
   "outputs": [],
   "source": [
    "# Build extra factors\n",
    "\n",
    "extra_feats = pd.DataFrame(index=full_df.index)\n",
    "\n",
    "extra_feats['session_length'] = (full_df[times].max(axis=1) - full_df[times].min(axis=1))/np.timedelta64(1, 's')\n",
    "extra_feats['start_hour'] = full_df[times].min(axis=1).apply(lambda x: (x.hour))\n",
    "extra_feats['start_minute'] = full_df[times].min(axis=1).apply(lambda x: (x.minute))\n",
    "extra_feats['session_std'] = ((full_df[times]-datetime(1970,1,1))/np.timedelta64(1, 's')).std(axis=1)\n",
    "# Additional factors for logit\n",
    "extra_feats['weekday'] = full_df[times].min(axis=1).apply(lambda x: x.weekday())\n",
    "extra_feats['yearmonth'] = full_df[times].min(axis=1).apply(lambda x: x.year*12+x.month)"
   ]
  },
  {
   "cell_type": "code",
   "execution_count": 10,
   "metadata": {},
   "outputs": [],
   "source": [
    "# Variables for visual analysis\n",
    "logit_extra_all = extra_feats.copy().fillna(0)\n",
    "idx_split = train_df.shape[0]\n",
    "\n",
    "session_start_hour = logit_extra_all.iloc[:idx_split,:]['start_hour'].values\n",
    "session_start_minute = logit_extra_all.iloc[:idx_split,:]['start_minute'].values\n",
    "session_start_weekday = logit_extra_all.iloc[:idx_split,:]['weekday'].values\n",
    "session_start_yearmonth = logit_extra_all.iloc[:idx_split,:]['yearmonth'].values\n",
    "session_length = logit_extra_all.iloc[:idx_split,:]['session_length'].values\n",
    "session_len_std = logit_extra_all.iloc[:idx_split,:]['session_std'].values"
   ]
  },
  {
   "cell_type": "code",
   "execution_count": 11,
   "metadata": {},
   "outputs": [
    {
     "data": {
      "image/png": "[encoded data removed]",
      "text/plain": [
       "<Figure size 864x432 with 2 Axes>"
      ]
     },
     "metadata": {
      "needs_background": "light"
     },
     "output_type": "display_data"
    }
   ],
   "source": [
    "f, (ax1, ax2) = plt.subplots(1,2, figsize=(12,6))\n",
    "f.suptitle('Session start hour',fontsize=16)\n",
    "\n",
    "sns.countplot(session_start_hour[y==1], ax=ax1).set_title('Alice')\n",
    "sns.countplot(session_start_hour[y==0], ax=ax2).set_title('Bob')\n",
    "\n",
    "plt.show()"
   ]
  },
  {
   "cell_type": "markdown",
   "metadata": {},
   "source": [
    "# Conclusions for hour\n",
    "Hour seems to be a really good predictor. From 19 to 8 Alice doesn't log on at all. Moreover, she mainly logs on between 16 and 18 hours, while Bobs logon counta are already declining.\n",
    "\n",
    "Bins:\n",
    "1. 16-17 - the most important bin\n",
    "2. 12-13 - the other smaller peak\n",
    "3. 18 - alice still logs on.\n",
    "4. 9,11,14,15 - Alice barely logs on.\n",
    "5. Everything else. The time interval where Alice doesn't log on at all."
   ]
  },
  {
   "cell_type": "code",
   "execution_count": 12,
   "metadata": {},
   "outputs": [
    {
     "data": {
      "image/png": "[encoded data removed]",
      "text/plain": [
       "<Figure size 864x432 with 2 Axes>"
      ]
     },
     "metadata": {
      "needs_background": "light"
     },
     "output_type": "display_data"
    }
   ],
   "source": [
    "f, (ax1, ax2) = plt.subplots(1,2, figsize=(12,6))\n",
    "f.suptitle('Session start minute',fontsize=16)\n",
    "\n",
    "sns.distplot(session_start_minute[y==1], ax=ax1).set_title('Alice')\n",
    "sns.distplot(session_start_minute[y==0], ax=ax2).set_title('Bob')\n",
    "\n",
    "plt.show()"
   ]
  },
  {
   "cell_type": "markdown",
   "metadata": {},
   "source": [
    "Bob's graph looks weird. It's probably the result of nearby bars stacking. Let's test if there really is a comb-like pattern."
   ]
  },
  {
   "cell_type": "code",
   "execution_count": 13,
   "metadata": {},
   "outputs": [
    {
     "data": {
      "text/plain": [
       "array([[   0, 3992],\n",
       "       [   1, 4047],\n",
       "       [   2, 4153],\n",
       "       [   3, 4218],\n",
       "       [   4, 4353],\n",
       "       [   5, 4227],\n",
       "       [   6, 4368],\n",
       "       [   7, 4175],\n",
       "       [   8, 4417],\n",
       "       [   9, 4390],\n",
       "       [  10, 4272],\n",
       "       [  11, 4259],\n",
       "       [  12, 4353],\n",
       "       [  13, 4337],\n",
       "       [  14, 4341],\n",
       "       [  15, 4481],\n",
       "       [  16, 4314],\n",
       "       [  17, 4465],\n",
       "       [  18, 4270],\n",
       "       [  19, 4160]], dtype=int64)"
      ]
     },
     "execution_count": 13,
     "metadata": {},
     "output_type": "execute_result"
    }
   ],
   "source": [
    "# Code based on this: https://stackoverflow.com/questions/10741346/numpy-most-efficient-frequency-counts-for-unique-values-in-an-array\n",
    "bob_mins = sorted(session_start_minute[y==0])\n",
    "bins = np.bincount(bob_mins)\n",
    "indces = np.nonzero(bins)[0]\n",
    "np.vstack(list(zip(indces,bins[indces])))[:20,:]"
   ]
  },
  {
   "cell_type": "markdown",
   "metadata": {},
   "source": [
    "# Conclusions for session start minute\n",
    "As suspected, the comb for Bob was just nearby bars stacking (which is why we didn't see anything in the smoothed function). The irregular pattern for Alice doesn't give us much. There are less observations for Alice than for Bob (less than 1 percent), so it's natural to see some variation."
   ]
  },
  {
   "cell_type": "code",
   "execution_count": 14,
   "metadata": {},
   "outputs": [
    {
     "data": {
      "image/png": "[encoded data removed]",
      "text/plain": [
       "<Figure size 864x432 with 2 Axes>"
      ]
     },
     "metadata": {
      "needs_background": "light"
     },
     "output_type": "display_data"
    }
   ],
   "source": [
    "f, (ax1, ax2) = plt.subplots(1,2, figsize=(12,6))\n",
    "f.suptitle('Session start weekday',fontsize=16)\n",
    "\n",
    "sns.countplot(session_start_weekday[y==1], ax=ax1).set_title('Alice')\n",
    "sns.countplot(session_start_weekday[y==0], ax=ax2).set_title('Bob')\n",
    "\n",
    "plt.show()"
   ]
  },
  {
   "cell_type": "markdown",
   "metadata": {},
   "source": [
    "# Conclusions for session start weekday\n",
    "Alice seems to wastly prefer Monday, and she rarely logs on on Wednesday and Saturday, and almost never - on Sunday. Experimenting with different options yielded this binning:\n",
    "1. Monday, Tuesday\n",
    "2. Thursday, Friday\n",
    "3. Wednesday, Saturday, Sunday"
   ]
  },
  {
   "cell_type": "code",
   "execution_count": 15,
   "metadata": {
    "scrolled": true
   },
   "outputs": [
    {
     "data": {
      "image/png": "[encoded data removed]",
      "text/plain": [
       "<Figure size 864x432 with 2 Axes>"
      ]
     },
     "metadata": {
      "needs_background": "light"
     },
     "output_type": "display_data"
    }
   ],
   "source": [
    "f, (ax1, ax2) = plt.subplots(1,2, figsize=(12,6))\n",
    "f.suptitle('Session length',fontsize=16)\n",
    "\n",
    "sns.distplot(session_length[y==1], ax=ax1).set_title('Alice')\n",
    "sns.distplot(session_length[y==0], ax=ax2).set_title('Bob')\n",
    "\n",
    "plt.show()"
   ]
  },
  {
   "cell_type": "markdown",
   "metadata": {},
   "source": [
    "# Conclusions for session length\n",
    "The figures look alike, but if we look at the y axis, we can see that Alice prefers much shorter sessions.This factor should add tomodel quality."
   ]
  },
  {
   "cell_type": "code",
   "execution_count": 16,
   "metadata": {
    "scrolled": true
   },
   "outputs": [
    {
     "data": {
      "image/png": "[encoded data removed]",
      "text/plain": [
       "<Figure size 864x432 with 2 Axes>"
      ]
     },
     "metadata": {
      "needs_background": "light"
     },
     "output_type": "display_data"
    }
   ],
   "source": [
    "f, (ax1, ax2) = plt.subplots(1,2, figsize=(12,6))\n",
    "f.suptitle('Session standard deviation',fontsize=16)\n",
    "\n",
    "sns.distplot(session_len_std[y==1], ax=ax1).set_title('Alice')\n",
    "sns.distplot(session_len_std[y==0], ax=ax2).set_title('Bob')\n",
    "\n",
    "plt.show()"
   ]
  },
  {
   "cell_type": "markdown",
   "metadata": {},
   "source": [
    "# Conclusions for session standard deviation\n",
    "Alice's sessions have less variance than Bob's, although we'll need to test whether that's a separate effect, or if it's an effect of shorter average length."
   ]
  },
  {
   "cell_type": "markdown",
   "metadata": {},
   "source": [
    "# Conclusion\n",
    "This is enough for visual analysis. Next we'll build a basic bag-of-words model and add the factors we discovered. See `main.ipynb` for details."
   ]
  }
 ],
 "metadata": {
  "kernelspec": {
   "display_name": "Python 3",
   "language": "python",
   "name": "python3"
  },
  "language_info": {
   "codemirror_mode": {
    "name": "ipython",
    "version": 3
   },
   "file_extension": ".py",
   "mimetype": "text/x-python",
   "name": "python",
   "nbconvert_exporter": "python",
   "pygments_lexer": "ipython3",
   "version": "3.7.4"
  }
 },
 "nbformat": 4,
 "nbformat_minor": 2
}
